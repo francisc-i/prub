{
 "cells": [
  {
   "cell_type": "code",
   "execution_count": 5,
   "metadata": {},
   "outputs": [],
   "source": [
    "# Python ≥3.5 is required\n",
    "import sys\n",
    "assert sys.version_info >= (3, 5)\n",
    "\n",
    "# Scikit-Learn ≥0.20 is required\n",
    "import sklearn\n",
    "assert sklearn.__version__ >= \"0.20\"\n",
    "\n",
    "# Common imports\n",
    "import numpy as np\n",
    "import os\n",
    "\n",
    "# To plot pretty figures\n",
    "%matplotlib inline\n",
    "import matplotlib as mpl\n",
    "import matplotlib.pyplot as plt\n",
    "mpl.rc('axes', labelsize=14)\n",
    "mpl.rc('xtick', labelsize=12)\n",
    "mpl.rc('ytick', labelsize=12)\n",
    "\n",
    "# Where to save the figures\n",
    "PROJECT_ROOT_DIR = \".\"\n",
    "CHAPTER_ID = \"Report_COVID19\"\n",
    "IMAGES_PATH = os.path.join(PROJECT_ROOT_DIR, \"images\", CHAPTER_ID)\n",
    "os.makedirs(IMAGES_PATH, exist_ok=True)\n",
    "\n",
    "def save_fig(fig_id, tight_layout=True, fig_extension=\"png\", resolution=300):\n",
    "    path = os.path.join(IMAGES_PATH, fig_id + \".\" + fig_extension)\n",
    "    print(\"Saving figure\", fig_id)\n",
    "    if tight_layout:\n",
    "        plt.tight_layout()\n",
    "    plt.savefig(path, format=fig_extension, dpi=resolution)\n",
    "\n",
    "# Ignore useless warnings (see SciPy issue #5998)\n",
    "import warnings\n",
    "warnings.filterwarnings(action=\"ignore\", message=\"^internal gelsd\")"
   ]
  },
  {
   "cell_type": "code",
   "execution_count": 7,
   "metadata": {},
   "outputs": [],
   "source": [
    "#Get the data\n",
    "\n",
    "import pandas as pd\n",
    "\n",
    "def reporting_data():\n",
    "    return pd.read_csv(\"Documents/Python/WHO-COVID-19-global-data.csv\", sep=\",\")\n",
    "\n",
    "dataset = reporting_data()"
   ]
  },
  {
   "cell_type": "code",
   "execution_count": 8,
   "metadata": {},
   "outputs": [
    {
     "data": {
      "text/html": [
       "<div>\n",
       "<style scoped>\n",
       "    .dataframe tbody tr th:only-of-type {\n",
       "        vertical-align: middle;\n",
       "    }\n",
       "\n",
       "    .dataframe tbody tr th {\n",
       "        vertical-align: top;\n",
       "    }\n",
       "\n",
       "    .dataframe thead th {\n",
       "        text-align: right;\n",
       "    }\n",
       "</style>\n",
       "<table border=\"1\" class=\"dataframe\">\n",
       "  <thead>\n",
       "    <tr style=\"text-align: right;\">\n",
       "      <th></th>\n",
       "      <th>Date_reported</th>\n",
       "      <th>Country_code</th>\n",
       "      <th>Country</th>\n",
       "      <th>WHO_region</th>\n",
       "      <th>New_cases</th>\n",
       "      <th>Cumulative_cases</th>\n",
       "      <th>New_deaths</th>\n",
       "      <th>Cumulative_deaths</th>\n",
       "    </tr>\n",
       "  </thead>\n",
       "  <tbody>\n",
       "    <tr>\n",
       "      <th>0</th>\n",
       "      <td>2020-01-03</td>\n",
       "      <td>AF</td>\n",
       "      <td>Afghanistan</td>\n",
       "      <td>EMRO</td>\n",
       "      <td>0</td>\n",
       "      <td>0</td>\n",
       "      <td>0</td>\n",
       "      <td>0</td>\n",
       "    </tr>\n",
       "    <tr>\n",
       "      <th>1</th>\n",
       "      <td>2020-01-04</td>\n",
       "      <td>AF</td>\n",
       "      <td>Afghanistan</td>\n",
       "      <td>EMRO</td>\n",
       "      <td>0</td>\n",
       "      <td>0</td>\n",
       "      <td>0</td>\n",
       "      <td>0</td>\n",
       "    </tr>\n",
       "    <tr>\n",
       "      <th>2</th>\n",
       "      <td>2020-01-05</td>\n",
       "      <td>AF</td>\n",
       "      <td>Afghanistan</td>\n",
       "      <td>EMRO</td>\n",
       "      <td>0</td>\n",
       "      <td>0</td>\n",
       "      <td>0</td>\n",
       "      <td>0</td>\n",
       "    </tr>\n",
       "    <tr>\n",
       "      <th>3</th>\n",
       "      <td>2020-01-06</td>\n",
       "      <td>AF</td>\n",
       "      <td>Afghanistan</td>\n",
       "      <td>EMRO</td>\n",
       "      <td>0</td>\n",
       "      <td>0</td>\n",
       "      <td>0</td>\n",
       "      <td>0</td>\n",
       "    </tr>\n",
       "    <tr>\n",
       "      <th>4</th>\n",
       "      <td>2020-01-07</td>\n",
       "      <td>AF</td>\n",
       "      <td>Afghanistan</td>\n",
       "      <td>EMRO</td>\n",
       "      <td>0</td>\n",
       "      <td>0</td>\n",
       "      <td>0</td>\n",
       "      <td>0</td>\n",
       "    </tr>\n",
       "    <tr>\n",
       "      <th>...</th>\n",
       "      <td>...</td>\n",
       "      <td>...</td>\n",
       "      <td>...</td>\n",
       "      <td>...</td>\n",
       "      <td>...</td>\n",
       "      <td>...</td>\n",
       "      <td>...</td>\n",
       "      <td>...</td>\n",
       "    </tr>\n",
       "    <tr>\n",
       "      <th>71558</th>\n",
       "      <td>2020-10-28</td>\n",
       "      <td>ZW</td>\n",
       "      <td>Zimbabwe</td>\n",
       "      <td>AFRO</td>\n",
       "      <td>12</td>\n",
       "      <td>8315</td>\n",
       "      <td>0</td>\n",
       "      <td>242</td>\n",
       "    </tr>\n",
       "    <tr>\n",
       "      <th>71559</th>\n",
       "      <td>2020-10-29</td>\n",
       "      <td>ZW</td>\n",
       "      <td>Zimbabwe</td>\n",
       "      <td>AFRO</td>\n",
       "      <td>5</td>\n",
       "      <td>8320</td>\n",
       "      <td>0</td>\n",
       "      <td>242</td>\n",
       "    </tr>\n",
       "    <tr>\n",
       "      <th>71560</th>\n",
       "      <td>2020-10-30</td>\n",
       "      <td>ZW</td>\n",
       "      <td>Zimbabwe</td>\n",
       "      <td>AFRO</td>\n",
       "      <td>1</td>\n",
       "      <td>8321</td>\n",
       "      <td>0</td>\n",
       "      <td>242</td>\n",
       "    </tr>\n",
       "    <tr>\n",
       "      <th>71561</th>\n",
       "      <td>2020-10-31</td>\n",
       "      <td>ZW</td>\n",
       "      <td>Zimbabwe</td>\n",
       "      <td>AFRO</td>\n",
       "      <td>41</td>\n",
       "      <td>8362</td>\n",
       "      <td>0</td>\n",
       "      <td>242</td>\n",
       "    </tr>\n",
       "    <tr>\n",
       "      <th>71562</th>\n",
       "      <td>2020-11-01</td>\n",
       "      <td>ZW</td>\n",
       "      <td>Zimbabwe</td>\n",
       "      <td>AFRO</td>\n",
       "      <td>5</td>\n",
       "      <td>8367</td>\n",
       "      <td>1</td>\n",
       "      <td>243</td>\n",
       "    </tr>\n",
       "  </tbody>\n",
       "</table>\n",
       "<p>71563 rows × 8 columns</p>\n",
       "</div>"
      ],
      "text/plain": [
       "      Date_reported  Country_code      Country  WHO_region   New_cases  \\\n",
       "0        2020-01-03            AF  Afghanistan        EMRO           0   \n",
       "1        2020-01-04            AF  Afghanistan        EMRO           0   \n",
       "2        2020-01-05            AF  Afghanistan        EMRO           0   \n",
       "3        2020-01-06            AF  Afghanistan        EMRO           0   \n",
       "4        2020-01-07            AF  Afghanistan        EMRO           0   \n",
       "...             ...           ...          ...         ...         ...   \n",
       "71558    2020-10-28            ZW     Zimbabwe        AFRO          12   \n",
       "71559    2020-10-29            ZW     Zimbabwe        AFRO           5   \n",
       "71560    2020-10-30            ZW     Zimbabwe        AFRO           1   \n",
       "71561    2020-10-31            ZW     Zimbabwe        AFRO          41   \n",
       "71562    2020-11-01            ZW     Zimbabwe        AFRO           5   \n",
       "\n",
       "        Cumulative_cases   New_deaths   Cumulative_deaths  \n",
       "0                      0            0                   0  \n",
       "1                      0            0                   0  \n",
       "2                      0            0                   0  \n",
       "3                      0            0                   0  \n",
       "4                      0            0                   0  \n",
       "...                  ...          ...                 ...  \n",
       "71558               8315            0                 242  \n",
       "71559               8320            0                 242  \n",
       "71560               8321            0                 242  \n",
       "71561               8362            0                 242  \n",
       "71562               8367            1                 243  \n",
       "\n",
       "[71563 rows x 8 columns]"
      ]
     },
     "execution_count": 8,
     "metadata": {},
     "output_type": "execute_result"
    }
   ],
   "source": [
    "dataset"
   ]
  },
  {
   "cell_type": "code",
   "execution_count": 24,
   "metadata": {
    "scrolled": true
   },
   "outputs": [
    {
     "name": "stdout",
     "output_type": "stream",
     "text": [
      "<class 'pandas.core.frame.DataFrame'>\n",
      "RangeIndex: 71563 entries, 0 to 71562\n",
      "Data columns (total 8 columns):\n",
      " #   Column              Non-Null Count  Dtype \n",
      "---  ------              --------------  ----- \n",
      " 0   Date_reported       71563 non-null  object\n",
      " 1    Country_code       71259 non-null  object\n",
      " 2    Country            71563 non-null  object\n",
      " 3    WHO_region         71563 non-null  object\n",
      " 4    New_cases          71563 non-null  int64 \n",
      " 5    Cumulative_cases   71563 non-null  int64 \n",
      " 6    New_deaths         71563 non-null  int64 \n",
      " 7    Cumulative_deaths  71563 non-null  int64 \n",
      "dtypes: int64(4), object(4)\n",
      "memory usage: 4.4+ MB\n"
     ]
    }
   ],
   "source": [
    "dataset.info()"
   ]
  },
  {
   "cell_type": "code",
   "execution_count": 33,
   "metadata": {},
   "outputs": [
    {
     "data": {
      "text/plain": [
       "2020-09-16    235\n",
       "2020-02-08    235\n",
       "2020-07-25    235\n",
       "2020-05-03    235\n",
       "2020-10-29    235\n",
       "             ... \n",
       "2020-05-18    235\n",
       "2020-01-05    235\n",
       "2020-08-29    235\n",
       "2020-09-28    235\n",
       "2020-11-02    123\n",
       "Name: Date_reported, Length: 305, dtype: int64"
      ]
     },
     "execution_count": 33,
     "metadata": {},
     "output_type": "execute_result"
    }
   ],
   "source": [
    "dataset[\"Date_reported\"].value_counts()"
   ]
  },
  {
   "cell_type": "code",
   "execution_count": 34,
   "metadata": {},
   "outputs": [
    {
     "data": {
      "text/plain": [
       "BM    305\n",
       "SY    305\n",
       "BH    305\n",
       "SO    305\n",
       "KW    305\n",
       "     ... \n",
       "GH    304\n",
       "AT    304\n",
       "AL    304\n",
       "MW    304\n",
       "GA    304\n",
       "Name:  Country_code, Length: 234, dtype: int64"
      ]
     },
     "execution_count": 34,
     "metadata": {},
     "output_type": "execute_result"
    }
   ],
   "source": [
    "dataset[\" Country_code\"].value_counts()"
   ]
  },
  {
   "cell_type": "code",
   "execution_count": 35,
   "metadata": {},
   "outputs": [
    {
     "data": {
      "text/plain": [
       "Cambodia              305\n",
       "New Caledonia         305\n",
       "Saint Martin          305\n",
       "Guatemala             305\n",
       "Papua New Guinea      305\n",
       "                     ... \n",
       "Albania               304\n",
       "Saint Helena          304\n",
       "Réunion               304\n",
       "Gibraltar             304\n",
       "Russian Federation    304\n",
       "Name:  Country, Length: 235, dtype: int64"
      ]
     },
     "execution_count": 35,
     "metadata": {},
     "output_type": "execute_result"
    }
   ],
   "source": [
    "dataset[\" Country\"].value_counts()"
   ]
  },
  {
   "cell_type": "code",
   "execution_count": 39,
   "metadata": {},
   "outputs": [
    {
     "data": {
      "text/plain": [
       "14312"
      ]
     },
     "execution_count": 39,
     "metadata": {},
     "output_type": "execute_result"
    }
   ],
   "source": [
    "import numpy as np\n",
    "\n",
    "# For illustration only. Sklearn has train_test_split()\n",
    "def split_train_test(data, test_ratio):\n",
    "    shuffled_indices = np.random.permutation(len(data))\n",
    "    test_set_size = int(len(data) * test_ratio)\n",
    "    test_indices = shuffled_indices[:test_set_size]\n",
    "    train_indices = shuffled_indices[test_set_size:]\n",
    "    return data.iloc[train_indices], data.iloc[test_indices]\n",
    "\n",
    "train_set, test_set = split_train_test(dataset, 0.2)\n",
    "\n",
    "len(test_set)\n",
    "\n",
    "\n"
   ]
  },
  {
   "cell_type": "code",
   "execution_count": 38,
   "metadata": {},
   "outputs": [
    {
     "data": {
      "text/plain": [
       "57251"
      ]
     },
     "execution_count": 38,
     "metadata": {},
     "output_type": "execute_result"
    }
   ],
   "source": [
    "len(train_set)"
   ]
  },
  {
   "cell_type": "code",
   "execution_count": 40,
   "metadata": {},
   "outputs": [],
   "source": [
    "\n",
    "\n",
    "from zlib import crc32\n",
    "\n",
    "def test_set_check(identifier, test_ratio):\n",
    "    return crc32(np.int64(identifier)) & 0xffffffff < test_ratio * 2**32\n",
    "\n",
    "def split_train_test_by_id(data, test_ratio, id_column):\n",
    "    ids = data[id_column]\n",
    "    in_test_set = ids.apply(lambda id_: test_set_check(id_, test_ratio))\n",
    "    return data.loc[~in_test_set], data.loc[in_test_set]\n",
    "\n"
   ]
  },
  {
   "cell_type": "code",
   "execution_count": 42,
   "metadata": {},
   "outputs": [],
   "source": [
    "dataset_with_id = dataset.reset_index()   # adds an `index` column\n",
    "train_set, test_set = split_train_test_by_id(dataset_with_id, 0.2, \"index\")"
   ]
  },
  {
   "cell_type": "code",
   "execution_count": 43,
   "metadata": {},
   "outputs": [
    {
     "name": "stdout",
     "output_type": "stream",
     "text": [
      "      Date_reported  Country_code      Country  WHO_region   New_cases  \\\n",
      "0        2020-01-03            AF  Afghanistan        EMRO           0   \n",
      "1        2020-01-04            AF  Afghanistan        EMRO           0   \n",
      "2        2020-01-05            AF  Afghanistan        EMRO           0   \n",
      "3        2020-01-06            AF  Afghanistan        EMRO           0   \n",
      "4        2020-01-07            AF  Afghanistan        EMRO           0   \n",
      "...             ...           ...          ...         ...         ...   \n",
      "71558    2020-10-28            ZW     Zimbabwe        AFRO          12   \n",
      "71559    2020-10-29            ZW     Zimbabwe        AFRO           5   \n",
      "71560    2020-10-30            ZW     Zimbabwe        AFRO           1   \n",
      "71561    2020-10-31            ZW     Zimbabwe        AFRO          41   \n",
      "71562    2020-11-01            ZW     Zimbabwe        AFRO           5   \n",
      "\n",
      "        Cumulative_cases   New_deaths   Cumulative_deaths  \n",
      "0                      0            0                   0  \n",
      "1                      0            0                   0  \n",
      "2                      0            0                   0  \n",
      "3                      0            0                   0  \n",
      "4                      0            0                   0  \n",
      "...                  ...          ...                 ...  \n",
      "71558               8315            0                 242  \n",
      "71559               8320            0                 242  \n",
      "71560               8321            0                 242  \n",
      "71561               8362            0                 242  \n",
      "71562               8367            1                 243  \n",
      "\n",
      "[71563 rows x 8 columns]\n"
     ]
    }
   ],
   "source": [
    "print(dataset)"
   ]
  },
  {
   "cell_type": "code",
   "execution_count": 44,
   "metadata": {},
   "outputs": [
    {
     "data": {
      "text/html": [
       "<div>\n",
       "<style scoped>\n",
       "    .dataframe tbody tr th:only-of-type {\n",
       "        vertical-align: middle;\n",
       "    }\n",
       "\n",
       "    .dataframe tbody tr th {\n",
       "        vertical-align: top;\n",
       "    }\n",
       "\n",
       "    .dataframe thead th {\n",
       "        text-align: right;\n",
       "    }\n",
       "</style>\n",
       "<table border=\"1\" class=\"dataframe\">\n",
       "  <thead>\n",
       "    <tr style=\"text-align: right;\">\n",
       "      <th></th>\n",
       "      <th>index</th>\n",
       "      <th>Date_reported</th>\n",
       "      <th>Country_code</th>\n",
       "      <th>Country</th>\n",
       "      <th>WHO_region</th>\n",
       "      <th>New_cases</th>\n",
       "      <th>Cumulative_cases</th>\n",
       "      <th>New_deaths</th>\n",
       "      <th>Cumulative_deaths</th>\n",
       "    </tr>\n",
       "  </thead>\n",
       "  <tbody>\n",
       "    <tr>\n",
       "      <th>2</th>\n",
       "      <td>2</td>\n",
       "      <td>2020-01-05</td>\n",
       "      <td>AF</td>\n",
       "      <td>Afghanistan</td>\n",
       "      <td>EMRO</td>\n",
       "      <td>0</td>\n",
       "      <td>0</td>\n",
       "      <td>0</td>\n",
       "      <td>0</td>\n",
       "    </tr>\n",
       "    <tr>\n",
       "      <th>5</th>\n",
       "      <td>5</td>\n",
       "      <td>2020-01-08</td>\n",
       "      <td>AF</td>\n",
       "      <td>Afghanistan</td>\n",
       "      <td>EMRO</td>\n",
       "      <td>0</td>\n",
       "      <td>0</td>\n",
       "      <td>0</td>\n",
       "      <td>0</td>\n",
       "    </tr>\n",
       "    <tr>\n",
       "      <th>12</th>\n",
       "      <td>12</td>\n",
       "      <td>2020-01-15</td>\n",
       "      <td>AF</td>\n",
       "      <td>Afghanistan</td>\n",
       "      <td>EMRO</td>\n",
       "      <td>0</td>\n",
       "      <td>0</td>\n",
       "      <td>0</td>\n",
       "      <td>0</td>\n",
       "    </tr>\n",
       "    <tr>\n",
       "      <th>16</th>\n",
       "      <td>16</td>\n",
       "      <td>2020-01-19</td>\n",
       "      <td>AF</td>\n",
       "      <td>Afghanistan</td>\n",
       "      <td>EMRO</td>\n",
       "      <td>0</td>\n",
       "      <td>0</td>\n",
       "      <td>0</td>\n",
       "      <td>0</td>\n",
       "    </tr>\n",
       "    <tr>\n",
       "      <th>23</th>\n",
       "      <td>23</td>\n",
       "      <td>2020-01-26</td>\n",
       "      <td>AF</td>\n",
       "      <td>Afghanistan</td>\n",
       "      <td>EMRO</td>\n",
       "      <td>0</td>\n",
       "      <td>0</td>\n",
       "      <td>0</td>\n",
       "      <td>0</td>\n",
       "    </tr>\n",
       "  </tbody>\n",
       "</table>\n",
       "</div>"
      ],
      "text/plain": [
       "    index Date_reported  Country_code      Country  WHO_region   New_cases  \\\n",
       "2       2    2020-01-05            AF  Afghanistan        EMRO           0   \n",
       "5       5    2020-01-08            AF  Afghanistan        EMRO           0   \n",
       "12     12    2020-01-15            AF  Afghanistan        EMRO           0   \n",
       "16     16    2020-01-19            AF  Afghanistan        EMRO           0   \n",
       "23     23    2020-01-26            AF  Afghanistan        EMRO           0   \n",
       "\n",
       "     Cumulative_cases   New_deaths   Cumulative_deaths  \n",
       "2                   0            0                   0  \n",
       "5                   0            0                   0  \n",
       "12                  0            0                   0  \n",
       "16                  0            0                   0  \n",
       "23                  0            0                   0  "
      ]
     },
     "execution_count": 44,
     "metadata": {},
     "output_type": "execute_result"
    }
   ],
   "source": [
    "\n",
    "\n",
    "test_set.head()\n",
    "\n"
   ]
  },
  {
   "cell_type": "code",
   "execution_count": 45,
   "metadata": {},
   "outputs": [
    {
     "data": {
      "text/html": [
       "<div>\n",
       "<style scoped>\n",
       "    .dataframe tbody tr th:only-of-type {\n",
       "        vertical-align: middle;\n",
       "    }\n",
       "\n",
       "    .dataframe tbody tr th {\n",
       "        vertical-align: top;\n",
       "    }\n",
       "\n",
       "    .dataframe thead th {\n",
       "        text-align: right;\n",
       "    }\n",
       "</style>\n",
       "<table border=\"1\" class=\"dataframe\">\n",
       "  <thead>\n",
       "    <tr style=\"text-align: right;\">\n",
       "      <th></th>\n",
       "      <th>index</th>\n",
       "      <th>Date_reported</th>\n",
       "      <th>Country_code</th>\n",
       "      <th>Country</th>\n",
       "      <th>WHO_region</th>\n",
       "      <th>New_cases</th>\n",
       "      <th>Cumulative_cases</th>\n",
       "      <th>New_deaths</th>\n",
       "      <th>Cumulative_deaths</th>\n",
       "    </tr>\n",
       "  </thead>\n",
       "  <tbody>\n",
       "    <tr>\n",
       "      <th>0</th>\n",
       "      <td>0</td>\n",
       "      <td>2020-01-03</td>\n",
       "      <td>AF</td>\n",
       "      <td>Afghanistan</td>\n",
       "      <td>EMRO</td>\n",
       "      <td>0</td>\n",
       "      <td>0</td>\n",
       "      <td>0</td>\n",
       "      <td>0</td>\n",
       "    </tr>\n",
       "    <tr>\n",
       "      <th>1</th>\n",
       "      <td>1</td>\n",
       "      <td>2020-01-04</td>\n",
       "      <td>AF</td>\n",
       "      <td>Afghanistan</td>\n",
       "      <td>EMRO</td>\n",
       "      <td>0</td>\n",
       "      <td>0</td>\n",
       "      <td>0</td>\n",
       "      <td>0</td>\n",
       "    </tr>\n",
       "    <tr>\n",
       "      <th>3</th>\n",
       "      <td>3</td>\n",
       "      <td>2020-01-06</td>\n",
       "      <td>AF</td>\n",
       "      <td>Afghanistan</td>\n",
       "      <td>EMRO</td>\n",
       "      <td>0</td>\n",
       "      <td>0</td>\n",
       "      <td>0</td>\n",
       "      <td>0</td>\n",
       "    </tr>\n",
       "    <tr>\n",
       "      <th>4</th>\n",
       "      <td>4</td>\n",
       "      <td>2020-01-07</td>\n",
       "      <td>AF</td>\n",
       "      <td>Afghanistan</td>\n",
       "      <td>EMRO</td>\n",
       "      <td>0</td>\n",
       "      <td>0</td>\n",
       "      <td>0</td>\n",
       "      <td>0</td>\n",
       "    </tr>\n",
       "    <tr>\n",
       "      <th>6</th>\n",
       "      <td>6</td>\n",
       "      <td>2020-01-09</td>\n",
       "      <td>AF</td>\n",
       "      <td>Afghanistan</td>\n",
       "      <td>EMRO</td>\n",
       "      <td>0</td>\n",
       "      <td>0</td>\n",
       "      <td>0</td>\n",
       "      <td>0</td>\n",
       "    </tr>\n",
       "  </tbody>\n",
       "</table>\n",
       "</div>"
      ],
      "text/plain": [
       "   index Date_reported  Country_code      Country  WHO_region   New_cases  \\\n",
       "0      0    2020-01-03            AF  Afghanistan        EMRO           0   \n",
       "1      1    2020-01-04            AF  Afghanistan        EMRO           0   \n",
       "3      3    2020-01-06            AF  Afghanistan        EMRO           0   \n",
       "4      4    2020-01-07            AF  Afghanistan        EMRO           0   \n",
       "6      6    2020-01-09            AF  Afghanistan        EMRO           0   \n",
       "\n",
       "    Cumulative_cases   New_deaths   Cumulative_deaths  \n",
       "0                  0            0                   0  \n",
       "1                  0            0                   0  \n",
       "3                  0            0                   0  \n",
       "4                  0            0                   0  \n",
       "6                  0            0                   0  "
      ]
     },
     "execution_count": 45,
     "metadata": {},
     "output_type": "execute_result"
    }
   ],
   "source": [
    "\n",
    "\n",
    "train_set.head()\n",
    "\n"
   ]
  },
  {
   "cell_type": "code",
   "execution_count": 48,
   "metadata": {},
   "outputs": [
    {
     "data": {
      "text/plain": [
       "<AxesSubplot:>"
      ]
     },
     "execution_count": 48,
     "metadata": {},
     "output_type": "execute_result"
    },
    {
     "data": {
      "image/png": "[encoded data removed]",
      "text/plain": [
       "<Figure size 432x288 with 1 Axes>"
      ]
     },
     "metadata": {
      "needs_background": "light"
     },
     "output_type": "display_data"
    }
   ],
   "source": [
    "dataset[\" New_cases\"].hist()"
   ]
  },
  {
   "cell_type": "code",
   "execution_count": 111,
   "metadata": {},
   "outputs": [],
   "source": [
    "\n",
    "\n",
    "dataset[\"income_cat\"] = pd.cut(dataset[\" New_cases\"],\n",
    "                               bins=[0., 200, 400, 600, 800., np.inf],\n",
    "                               labels=[1, 2, 3, 4, 5])\n",
    "\n"
   ]
  },
  {
   "cell_type": "code",
   "execution_count": 112,
   "metadata": {},
   "outputs": [
    {
     "data": {
      "text/plain": [
       "1    22709\n",
       "5     6498\n",
       "2     3321\n",
       "3     1992\n",
       "4     1444\n",
       "Name: income_cat, dtype: int64"
      ]
     },
     "execution_count": 112,
     "metadata": {},
     "output_type": "execute_result"
    }
   ],
   "source": [
    "\n",
    "\n",
    "dataset[\"income_cat\"].value_counts()\n",
    "\n"
   ]
  },
  {
   "cell_type": "code",
   "execution_count": 113,
   "metadata": {},
   "outputs": [
    {
     "data": {
      "text/plain": [
       "<AxesSubplot:>"
      ]
     },
     "execution_count": 113,
     "metadata": {},
     "output_type": "execute_result"
    },
    {
     "data": {
      "image/png": "[encoded data removed]",
      "text/plain": [
       "<Figure size 432x288 with 1 Axes>"
      ]
     },
     "metadata": {
      "needs_background": "light"
     },
     "output_type": "display_data"
    }
   ],
   "source": [
    "dataset[\"income_cat\"].hist()"
   ]
  },
  {
   "cell_type": "code",
   "execution_count": 92,
   "metadata": {},
   "outputs": [
    {
     "ename": "NameError",
     "evalue": "name 'strat_train_set' is not defined",
     "output_type": "error",
     "traceback": [
      "\u001b[0;31m---------------------------------------------------------------------------\u001b[0m",
      "\u001b[0;31mNameError\u001b[0m                                 Traceback (most recent call last)",
      "\u001b[0;32m<ipython-input-92-a4a1c90eba38>\u001b[0m in \u001b[0;36m<module>\u001b[0;34m\u001b[0m\n\u001b[0;32m----> 1\u001b[0;31m \u001b[0mdataset\u001b[0m \u001b[0;34m=\u001b[0m \u001b[0mstrat_train_set\u001b[0m\u001b[0;34m.\u001b[0m\u001b[0mcopy\u001b[0m\u001b[0;34m(\u001b[0m\u001b[0;34m)\u001b[0m\u001b[0;34m\u001b[0m\u001b[0;34m\u001b[0m\u001b[0m\n\u001b[0m",
      "\u001b[0;31mNameError\u001b[0m: name 'strat_train_set' is not defined"
     ]
    }
   ],
   "source": [
    "dataset = strat_train_set.copy()"
   ]
  },
  {
   "cell_type": "code",
   "execution_count": 114,
   "metadata": {},
   "outputs": [
    {
     "name": "stdout",
     "output_type": "stream",
     "text": [
      "      Date_reported  Country_code      Country  WHO_region   New_cases  \\\n",
      "0        2020-01-03            AF  Afghanistan        EMRO           0   \n",
      "1        2020-01-04            AF  Afghanistan        EMRO           0   \n",
      "2        2020-01-05            AF  Afghanistan        EMRO           0   \n",
      "3        2020-01-06            AF  Afghanistan        EMRO           0   \n",
      "4        2020-01-07            AF  Afghanistan        EMRO           0   \n",
      "...             ...           ...          ...         ...         ...   \n",
      "71558    2020-10-28            ZW     Zimbabwe        AFRO          12   \n",
      "71559    2020-10-29            ZW     Zimbabwe        AFRO           5   \n",
      "71560    2020-10-30            ZW     Zimbabwe        AFRO           1   \n",
      "71561    2020-10-31            ZW     Zimbabwe        AFRO          41   \n",
      "71562    2020-11-01            ZW     Zimbabwe        AFRO           5   \n",
      "\n",
      "        Cumulative_cases   New_deaths   Cumulative_deaths income_cat  \n",
      "0                      0            0                   0        NaN  \n",
      "1                      0            0                   0        NaN  \n",
      "2                      0            0                   0        NaN  \n",
      "3                      0            0                   0        NaN  \n",
      "4                      0            0                   0        NaN  \n",
      "...                  ...          ...                 ...        ...  \n",
      "71558               8315            0                 242          1  \n",
      "71559               8320            0                 242          1  \n",
      "71560               8321            0                 242          1  \n",
      "71561               8362            0                 242          1  \n",
      "71562               8367            1                 243          1  \n",
      "\n",
      "[71563 rows x 9 columns]\n"
     ]
    }
   ],
   "source": [
    "print(dataset)"
   ]
  },
  {
   "cell_type": "code",
   "execution_count": 158,
   "metadata": {},
   "outputs": [
    {
     "data": {
      "text/html": [
       "<div>\n",
       "<style scoped>\n",
       "    .dataframe tbody tr th:only-of-type {\n",
       "        vertical-align: middle;\n",
       "    }\n",
       "\n",
       "    .dataframe tbody tr th {\n",
       "        vertical-align: top;\n",
       "    }\n",
       "\n",
       "    .dataframe thead th {\n",
       "        text-align: right;\n",
       "    }\n",
       "</style>\n",
       "<table border=\"1\" class=\"dataframe\">\n",
       "  <thead>\n",
       "    <tr style=\"text-align: right;\">\n",
       "      <th></th>\n",
       "      <th>WHO_region</th>\n",
       "    </tr>\n",
       "  </thead>\n",
       "  <tbody>\n",
       "    <tr>\n",
       "      <th>0</th>\n",
       "      <td>EMRO</td>\n",
       "    </tr>\n",
       "    <tr>\n",
       "      <th>1</th>\n",
       "      <td>EMRO</td>\n",
       "    </tr>\n",
       "    <tr>\n",
       "      <th>2</th>\n",
       "      <td>EMRO</td>\n",
       "    </tr>\n",
       "    <tr>\n",
       "      <th>3</th>\n",
       "      <td>EMRO</td>\n",
       "    </tr>\n",
       "    <tr>\n",
       "      <th>4</th>\n",
       "      <td>EMRO</td>\n",
       "    </tr>\n",
       "    <tr>\n",
       "      <th>5</th>\n",
       "      <td>EMRO</td>\n",
       "    </tr>\n",
       "    <tr>\n",
       "      <th>6</th>\n",
       "      <td>EMRO</td>\n",
       "    </tr>\n",
       "    <tr>\n",
       "      <th>7</th>\n",
       "      <td>EMRO</td>\n",
       "    </tr>\n",
       "    <tr>\n",
       "      <th>8</th>\n",
       "      <td>EMRO</td>\n",
       "    </tr>\n",
       "    <tr>\n",
       "      <th>9</th>\n",
       "      <td>EMRO</td>\n",
       "    </tr>\n",
       "  </tbody>\n",
       "</table>\n",
       "</div>"
      ],
      "text/plain": [
       "   WHO_region\n",
       "0        EMRO\n",
       "1        EMRO\n",
       "2        EMRO\n",
       "3        EMRO\n",
       "4        EMRO\n",
       "5        EMRO\n",
       "6        EMRO\n",
       "7        EMRO\n",
       "8        EMRO\n",
       "9        EMRO"
      ]
     },
     "execution_count": 158,
     "metadata": {},
     "output_type": "execute_result"
    }
   ],
   "source": [
    "dataset_cat = dataset[[\" WHO_region\"]]\n",
    "dataset_cat.head(10)\n",
    "\n"
   ]
  },
  {
   "cell_type": "code",
   "execution_count": 159,
   "metadata": {},
   "outputs": [
    {
     "data": {
      "text/plain": [
       "array([[2.],\n",
       "       [2.],\n",
       "       [2.],\n",
       "       [2.],\n",
       "       [2.],\n",
       "       [2.],\n",
       "       [2.],\n",
       "       [2.],\n",
       "       [2.],\n",
       "       [2.]])"
      ]
     },
     "execution_count": 159,
     "metadata": {},
     "output_type": "execute_result"
    }
   ],
   "source": [
    "from sklearn.preprocessing import OrdinalEncoder\n",
    "\n",
    "ordinal_encoder = OrdinalEncoder()\n",
    "dataset_cat_encoded = ordinal_encoder.fit_transform(dataset_cat)\n",
    "dataset_cat_encoded[:10]"
   ]
  },
  {
   "cell_type": "code",
   "execution_count": 160,
   "metadata": {},
   "outputs": [
    {
     "data": {
      "text/html": [
       "<div>\n",
       "<style scoped>\n",
       "    .dataframe tbody tr th:only-of-type {\n",
       "        vertical-align: middle;\n",
       "    }\n",
       "\n",
       "    .dataframe tbody tr th {\n",
       "        vertical-align: top;\n",
       "    }\n",
       "\n",
       "    .dataframe thead th {\n",
       "        text-align: right;\n",
       "    }\n",
       "</style>\n",
       "<table border=\"1\" class=\"dataframe\">\n",
       "  <thead>\n",
       "    <tr style=\"text-align: right;\">\n",
       "      <th></th>\n",
       "      <th>Country</th>\n",
       "    </tr>\n",
       "  </thead>\n",
       "  <tbody>\n",
       "    <tr>\n",
       "      <th>0</th>\n",
       "      <td>Afghanistan</td>\n",
       "    </tr>\n",
       "    <tr>\n",
       "      <th>1</th>\n",
       "      <td>Afghanistan</td>\n",
       "    </tr>\n",
       "    <tr>\n",
       "      <th>2</th>\n",
       "      <td>Afghanistan</td>\n",
       "    </tr>\n",
       "    <tr>\n",
       "      <th>3</th>\n",
       "      <td>Afghanistan</td>\n",
       "    </tr>\n",
       "    <tr>\n",
       "      <th>4</th>\n",
       "      <td>Afghanistan</td>\n",
       "    </tr>\n",
       "    <tr>\n",
       "      <th>5</th>\n",
       "      <td>Afghanistan</td>\n",
       "    </tr>\n",
       "    <tr>\n",
       "      <th>6</th>\n",
       "      <td>Afghanistan</td>\n",
       "    </tr>\n",
       "    <tr>\n",
       "      <th>7</th>\n",
       "      <td>Afghanistan</td>\n",
       "    </tr>\n",
       "    <tr>\n",
       "      <th>8</th>\n",
       "      <td>Afghanistan</td>\n",
       "    </tr>\n",
       "    <tr>\n",
       "      <th>9</th>\n",
       "      <td>Afghanistan</td>\n",
       "    </tr>\n",
       "  </tbody>\n",
       "</table>\n",
       "</div>"
      ],
      "text/plain": [
       "       Country\n",
       "0  Afghanistan\n",
       "1  Afghanistan\n",
       "2  Afghanistan\n",
       "3  Afghanistan\n",
       "4  Afghanistan\n",
       "5  Afghanistan\n",
       "6  Afghanistan\n",
       "7  Afghanistan\n",
       "8  Afghanistan\n",
       "9  Afghanistan"
      ]
     },
     "execution_count": 160,
     "metadata": {},
     "output_type": "execute_result"
    }
   ],
   "source": [
    "dataset_cat1 = dataset[[\" Country\"]]\n",
    "dataset_cat1.head(10)"
   ]
  },
  {
   "cell_type": "code",
   "execution_count": 161,
   "metadata": {},
   "outputs": [
    {
     "data": {
      "text/plain": [
       "<71563x235 sparse matrix of type '<class 'numpy.float64'>'\n",
       "\twith 71563 stored elements in Compressed Sparse Row format>"
      ]
     },
     "execution_count": 161,
     "metadata": {},
     "output_type": "execute_result"
    }
   ],
   "source": [
    "from sklearn.preprocessing import OneHotEncoder\n",
    "\n",
    "cat_encoder1 = OneHotEncoder()\n",
    "dataset_cat1_1hot = cat_encoder1.fit_transform(dataset_cat1)\n",
    "dataset_cat1_1hot"
   ]
  },
  {
   "cell_type": "code",
   "execution_count": 162,
   "metadata": {},
   "outputs": [
    {
     "data": {
      "text/plain": [
       "array([[1., 0., 0., ..., 0., 0., 0.],\n",
       "       [1., 0., 0., ..., 0., 0., 0.],\n",
       "       [1., 0., 0., ..., 0., 0., 0.],\n",
       "       ...,\n",
       "       [0., 0., 0., ..., 0., 1., 0.],\n",
       "       [0., 0., 0., ..., 0., 1., 0.],\n",
       "       [0., 0., 0., ..., 0., 1., 0.]])"
      ]
     },
     "execution_count": 162,
     "metadata": {},
     "output_type": "execute_result"
    }
   ],
   "source": [
    "\n",
    "\n",
    "dataset_cat1_1hot.toarray()\n",
    "\n"
   ]
  },
  {
   "cell_type": "code",
   "execution_count": 163,
   "metadata": {},
   "outputs": [
    {
     "data": {
      "text/plain": [
       "array([[1., 0., 0., ..., 0., 0., 0.],\n",
       "       [1., 0., 0., ..., 0., 0., 0.],\n",
       "       [1., 0., 0., ..., 0., 0., 0.],\n",
       "       ...,\n",
       "       [0., 0., 0., ..., 0., 1., 0.],\n",
       "       [0., 0., 0., ..., 0., 1., 0.],\n",
       "       [0., 0., 0., ..., 0., 1., 0.]])"
      ]
     },
     "execution_count": 163,
     "metadata": {},
     "output_type": "execute_result"
    }
   ],
   "source": [
    "cat_encoder1 = OneHotEncoder(sparse=False)\n",
    "dataset_cat1_1hot = cat_encoder1.fit_transform(dataset_cat1)\n",
    "dataset_cat1_1hot\n"
   ]
  },
  {
   "cell_type": "code",
   "execution_count": 167,
   "metadata": {},
   "outputs": [
    {
     "data": {
      "text/plain": [
       "[array(['AFRO', 'AMRO', 'EMRO', 'EURO', 'Other', 'SEARO', 'WPRO'],\n",
       "       dtype=object)]"
      ]
     },
     "execution_count": 167,
     "metadata": {},
     "output_type": "execute_result"
    }
   ],
   "source": [
    "ordinal_encoder.categories_"
   ]
  },
  {
   "cell_type": "code",
   "execution_count": 165,
   "metadata": {},
   "outputs": [
    {
     "data": {
      "text/plain": [
       "array([[1., 0., 0., ..., 0., 0., 0.],\n",
       "       [0., 1., 0., ..., 0., 0., 0.],\n",
       "       [0., 0., 1., ..., 0., 0., 0.],\n",
       "       ...,\n",
       "       [0., 0., 0., ..., 0., 0., 0.],\n",
       "       [0., 0., 0., ..., 1., 0., 0.],\n",
       "       [0., 0., 0., ..., 0., 1., 0.]])"
      ]
     },
     "execution_count": 165,
     "metadata": {},
     "output_type": "execute_result"
    }
   ],
   "source": [
    "dataset_cat3 = dataset[[\"Date_reported\"]]\n",
    "dataset_cat3.head(10)\n",
    "\n",
    "from sklearn.preprocessing import OneHotEncoder\n",
    "\n",
    "cat_encoder3 = OneHotEncoder()\n",
    "dataset_cat3_1hot = cat_encoder3.fit_transform(dataset_cat3)\n",
    "dataset_cat3_1hot\n",
    "\n",
    "dataset_cat3_1hot.toarray()\n",
    "\n",
    "cat_encoder3 = OneHotEncoder(sparse=False)\n",
    "dataset_cat3_1hot = cat_encoder3.fit_transform(dataset_cat3)\n",
    "dataset_cat3_1hot\n",
    "\n"
   ]
  },
  {
   "cell_type": "code",
   "execution_count": 166,
   "metadata": {},
   "outputs": [
    {
     "data": {
      "text/plain": [
       "[array(['2020-01-03', '2020-01-04', '2020-01-05', '2020-01-06',\n",
       "        '2020-01-07', '2020-01-08', '2020-01-09', '2020-01-10',\n",
       "        '2020-01-11', '2020-01-12', '2020-01-13', '2020-01-14',\n",
       "        '2020-01-15', '2020-01-16', '2020-01-17', '2020-01-18',\n",
       "        '2020-01-19', '2020-01-20', '2020-01-21', '2020-01-22',\n",
       "        '2020-01-23', '2020-01-24', '2020-01-25', '2020-01-26',\n",
       "        '2020-01-27', '2020-01-28', '2020-01-29', '2020-01-30',\n",
       "        '2020-01-31', '2020-02-01', '2020-02-02', '2020-02-03',\n",
       "        '2020-02-04', '2020-02-05', '2020-02-06', '2020-02-07',\n",
       "        '2020-02-08', '2020-02-09', '2020-02-10', '2020-02-11',\n",
       "        '2020-02-12', '2020-02-13', '2020-02-14', '2020-02-15',\n",
       "        '2020-02-16', '2020-02-17', '2020-02-18', '2020-02-19',\n",
       "        '2020-02-20', '2020-02-21', '2020-02-22', '2020-02-23',\n",
       "        '2020-02-24', '2020-02-25', '2020-02-26', '2020-02-27',\n",
       "        '2020-02-28', '2020-02-29', '2020-03-01', '2020-03-02',\n",
       "        '2020-03-03', '2020-03-04', '2020-03-05', '2020-03-06',\n",
       "        '2020-03-07', '2020-03-08', '2020-03-09', '2020-03-10',\n",
       "        '2020-03-11', '2020-03-12', '2020-03-13', '2020-03-14',\n",
       "        '2020-03-15', '2020-03-16', '2020-03-17', '2020-03-18',\n",
       "        '2020-03-19', '2020-03-20', '2020-03-21', '2020-03-22',\n",
       "        '2020-03-23', '2020-03-24', '2020-03-25', '2020-03-26',\n",
       "        '2020-03-27', '2020-03-28', '2020-03-29', '2020-03-30',\n",
       "        '2020-03-31', '2020-04-01', '2020-04-02', '2020-04-03',\n",
       "        '2020-04-04', '2020-04-05', '2020-04-06', '2020-04-07',\n",
       "        '2020-04-08', '2020-04-09', '2020-04-10', '2020-04-11',\n",
       "        '2020-04-12', '2020-04-13', '2020-04-14', '2020-04-15',\n",
       "        '2020-04-16', '2020-04-17', '2020-04-18', '2020-04-19',\n",
       "        '2020-04-20', '2020-04-21', '2020-04-22', '2020-04-23',\n",
       "        '2020-04-24', '2020-04-25', '2020-04-26', '2020-04-27',\n",
       "        '2020-04-28', '2020-04-29', '2020-04-30', '2020-05-01',\n",
       "        '2020-05-02', '2020-05-03', '2020-05-04', '2020-05-05',\n",
       "        '2020-05-06', '2020-05-07', '2020-05-08', '2020-05-09',\n",
       "        '2020-05-10', '2020-05-11', '2020-05-12', '2020-05-13',\n",
       "        '2020-05-14', '2020-05-15', '2020-05-16', '2020-05-17',\n",
       "        '2020-05-18', '2020-05-19', '2020-05-20', '2020-05-21',\n",
       "        '2020-05-22', '2020-05-23', '2020-05-24', '2020-05-25',\n",
       "        '2020-05-26', '2020-05-27', '2020-05-28', '2020-05-29',\n",
       "        '2020-05-30', '2020-05-31', '2020-06-01', '2020-06-02',\n",
       "        '2020-06-03', '2020-06-04', '2020-06-05', '2020-06-06',\n",
       "        '2020-06-07', '2020-06-08', '2020-06-09', '2020-06-10',\n",
       "        '2020-06-11', '2020-06-12', '2020-06-13', '2020-06-14',\n",
       "        '2020-06-15', '2020-06-16', '2020-06-17', '2020-06-18',\n",
       "        '2020-06-19', '2020-06-20', '2020-06-21', '2020-06-22',\n",
       "        '2020-06-23', '2020-06-24', '2020-06-25', '2020-06-26',\n",
       "        '2020-06-27', '2020-06-28', '2020-06-29', '2020-06-30',\n",
       "        '2020-07-01', '2020-07-02', '2020-07-03', '2020-07-04',\n",
       "        '2020-07-05', '2020-07-06', '2020-07-07', '2020-07-08',\n",
       "        '2020-07-09', '2020-07-10', '2020-07-11', '2020-07-12',\n",
       "        '2020-07-13', '2020-07-14', '2020-07-15', '2020-07-16',\n",
       "        '2020-07-17', '2020-07-18', '2020-07-19', '2020-07-20',\n",
       "        '2020-07-21', '2020-07-22', '2020-07-23', '2020-07-24',\n",
       "        '2020-07-25', '2020-07-26', '2020-07-27', '2020-07-28',\n",
       "        '2020-07-29', '2020-07-30', '2020-07-31', '2020-08-01',\n",
       "        '2020-08-02', '2020-08-03', '2020-08-04', '2020-08-05',\n",
       "        '2020-08-06', '2020-08-07', '2020-08-08', '2020-08-09',\n",
       "        '2020-08-10', '2020-08-11', '2020-08-12', '2020-08-13',\n",
       "        '2020-08-14', '2020-08-15', '2020-08-16', '2020-08-17',\n",
       "        '2020-08-18', '2020-08-19', '2020-08-20', '2020-08-21',\n",
       "        '2020-08-22', '2020-08-23', '2020-08-24', '2020-08-25',\n",
       "        '2020-08-26', '2020-08-27', '2020-08-28', '2020-08-29',\n",
       "        '2020-08-30', '2020-08-31', '2020-09-01', '2020-09-02',\n",
       "        '2020-09-03', '2020-09-04', '2020-09-05', '2020-09-06',\n",
       "        '2020-09-07', '2020-09-08', '2020-09-09', '2020-09-10',\n",
       "        '2020-09-11', '2020-09-12', '2020-09-13', '2020-09-14',\n",
       "        '2020-09-15', '2020-09-16', '2020-09-17', '2020-09-18',\n",
       "        '2020-09-19', '2020-09-20', '2020-09-21', '2020-09-22',\n",
       "        '2020-09-23', '2020-09-24', '2020-09-25', '2020-09-26',\n",
       "        '2020-09-27', '2020-09-28', '2020-09-29', '2020-09-30',\n",
       "        '2020-10-01', '2020-10-02', '2020-10-03', '2020-10-04',\n",
       "        '2020-10-05', '2020-10-06', '2020-10-07', '2020-10-08',\n",
       "        '2020-10-09', '2020-10-10', '2020-10-11', '2020-10-12',\n",
       "        '2020-10-13', '2020-10-14', '2020-10-15', '2020-10-16',\n",
       "        '2020-10-17', '2020-10-18', '2020-10-19', '2020-10-20',\n",
       "        '2020-10-21', '2020-10-22', '2020-10-23', '2020-10-24',\n",
       "        '2020-10-25', '2020-10-26', '2020-10-27', '2020-10-28',\n",
       "        '2020-10-29', '2020-10-30', '2020-10-31', '2020-11-01',\n",
       "        '2020-11-02'], dtype=object)]"
      ]
     },
     "execution_count": 166,
     "metadata": {},
     "output_type": "execute_result"
    }
   ],
   "source": [
    "cat_encoder3.categories_"
   ]
  },
  {
   "cell_type": "code",
   "execution_count": null,
   "metadata": {},
   "outputs": [],
   "source": []
  },
  {
   "cell_type": "code",
   "execution_count": null,
   "metadata": {},
   "outputs": [],
   "source": []
  }
 ],
 "metadata": {
  "kernelspec": {
   "display_name": "Python 3",
   "language": "python",
   "name": "python3"
  },
  "language_info": {
   "codemirror_mode": {
    "name": "ipython",
    "version": 3
   },
   "file_extension": ".py",
   "mimetype": "text/x-python",
   "name": "python",
   "nbconvert_exporter": "python",
   "pygments_lexer": "ipython3",
   "version": "3.8.5"
  }
 },
 "nbformat": 4,
 "nbformat_minor": 4
}
